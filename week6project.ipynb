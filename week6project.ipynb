{
 "cells": [
  {
   "cell_type": "code",
   "execution_count": 1,
   "id": "98577f3d-df1f-4796-b11f-2661c4f47789",
   "metadata": {},
   "outputs": [],
   "source": [
    "import pandas as pd\n",
    "import numpy as np\n",
    "from sklearn.datasets import load_iris\n",
    "from sklearn.model_selection import train_test_split, GridSearchCV, RandomizedSearchCV\n",
    "from sklearn.metrics import accuracy_score, precision_score, recall_score, f1_score, classification_report\n",
    "from sklearn.ensemble import RandomForestClassifier\n",
    "from sklearn.linear_model import LogisticRegression\n",
    "from sklearn.svm import SVC\n",
    "import warnings\n",
    "warnings.filterwarnings(\"ignore\")\n",
    "\n",
    "# Load dataset\n",
    "data = load_iris()\n",
    "X = data.data\n",
    "y = data.target\n",
    "\n",
    "# Train-Test Split\n",
    "X_train, X_test, y_train, y_test = train_test_split(X, y, test_size=0.3, random_state=42)\n"
   ]
  },
  {
   "cell_type": "code",
   "execution_count": 3,
   "id": "32429a8d-133b-4d9e-8f3a-0ff2b878945d",
   "metadata": {},
   "outputs": [
    {
     "name": "stdout",
     "output_type": "stream",
     "text": [
      "🔍 Base Model Performance:\n",
      "                  Model  Accuracy  Precision  Recall  F1-Score\n",
      "0  Logistic Regression       1.0        1.0     1.0       1.0\n",
      "1        Random Forest       1.0        1.0     1.0       1.0\n",
      "2                  SVM       1.0        1.0     1.0       1.0\n"
     ]
    }
   ],
   "source": [
    "models = {\n",
    "    \"Logistic Regression\": LogisticRegression(max_iter=500),\n",
    "    \"Random Forest\": RandomForestClassifier(),\n",
    "    \"SVM\": SVC()\n",
    "}\n",
    "\n",
    "results = []\n",
    "\n",
    "for name, model in models.items():\n",
    "    model.fit(X_train, y_train)\n",
    "    y_pred = model.predict(X_test)\n",
    "\n",
    "    results.append({\n",
    "        \"Model\": name,\n",
    "        \"Accuracy\": accuracy_score(y_test, y_pred),\n",
    "        \"Precision\": precision_score(y_test, y_pred, average='macro'),\n",
    "        \"Recall\": recall_score(y_test, y_pred, average='macro'),\n",
    "        \"F1-Score\": f1_score(y_test, y_pred, average='macro')\n",
    "    })\n",
    "\n",
    "df_results = pd.DataFrame(results)\n",
    "print(\"🔍 Base Model Performance:\\n\", df_results)\n"
   ]
  },
  {
   "cell_type": "code",
   "execution_count": 5,
   "id": "6afc6515-7450-4ff4-aa97-a145ac4bbeda",
   "metadata": {},
   "outputs": [
    {
     "name": "stdout",
     "output_type": "stream",
     "text": [
      "✅ Best GridSearchCV Parameters: {'max_depth': 5, 'min_samples_split': 5, 'n_estimators': 200}\n"
     ]
    }
   ],
   "source": [
    "# Grid Search for RandomForest\n",
    "param_grid = {\n",
    "    \"n_estimators\": [50, 100, 200],\n",
    "    \"max_depth\": [None, 5, 10],\n",
    "    \"min_samples_split\": [2, 5]\n",
    "}\n",
    "\n",
    "grid_search = GridSearchCV(RandomForestClassifier(), param_grid, cv=3, scoring=\"f1_macro\")\n",
    "grid_search.fit(X_train, y_train)\n",
    "\n",
    "print(\"✅ Best GridSearchCV Parameters:\", grid_search.best_params_)\n"
   ]
  },
  {
   "cell_type": "code",
   "execution_count": 6,
   "id": "0ea256e5-dde4-410c-a1d5-c2781fbf0666",
   "metadata": {},
   "outputs": [
    {
     "name": "stdout",
     "output_type": "stream",
     "text": [
      "✅ Best RandomizedSearchCV Parameters: {'C': 3.845401188473625, 'gamma': 'scale', 'kernel': 'linear'}\n"
     ]
    }
   ],
   "source": [
    "from scipy.stats import uniform\n",
    "\n",
    "param_dist = {\n",
    "    \"C\": uniform(0.1, 10),\n",
    "    \"gamma\": ['scale', 'auto'],\n",
    "    \"kernel\": ['linear', 'rbf']\n",
    "}\n",
    "\n",
    "random_search = RandomizedSearchCV(SVC(), param_distributions=param_dist, n_iter=10, cv=3, scoring=\"f1_macro\", random_state=42)\n",
    "random_search.fit(X_train, y_train)\n",
    "\n",
    "print(\"✅ Best RandomizedSearchCV Parameters:\", random_search.best_params_)"
   ]
  },
  {
   "cell_type": "code",
   "execution_count": 9,
   "id": "01b699c5-6050-4e2e-bc2b-bf3c30e57509",
   "metadata": {},
   "outputs": [
    {
     "name": "stdout",
     "output_type": "stream",
     "text": [
      "\n",
      "🔍 Tuned Model Performance:\n",
      "                  Model  Accuracy  Precision    Recall  F1-Score\n",
      "0  Tuned Random Forest  1.000000    1.00000  1.000000  1.000000\n",
      "1            Tuned SVM  0.977778    0.97619  0.974359  0.974321\n"
     ]
    }
   ],
   "source": [
    "best_rf = grid_search.best_estimator_\n",
    "best_svc = random_search.best_estimator_\n",
    "\n",
    "final_models = {\n",
    "    \"Tuned Random Forest\": best_rf,\n",
    "    \"Tuned SVM\": best_svc\n",
    "}\n",
    "\n",
    "tuned_results = []\n",
    "\n",
    "for name, model in final_models.items():\n",
    "    model.fit(X_train, y_train)\n",
    "    y_pred = model.predict(X_test)\n",
    "    tuned_results.append({\n",
    "        \"Model\": name,\n",
    "        \"Accuracy\": accuracy_score(y_test, y_pred),\n",
    "        \"Precision\": precision_score(y_test, y_pred, average='macro'),\n",
    "        \"Recall\": recall_score(y_test, y_pred, average='macro'),\n",
    "        \"F1-Score\": f1_score(y_test, y_pred, average='macro')\n",
    "    })\n",
    "\n",
    "df_tuned = pd.DataFrame(tuned_results)\n",
    "print(\"\\n🔍 Tuned Model Performance:\\n\", df_tuned)\n"
   ]
  },
  {
   "cell_type": "code",
   "execution_count": 11,
   "id": "2ea26a50-eec3-4de8-bb31-faa8d311b379",
   "metadata": {},
   "outputs": [
    {
     "name": "stdout",
     "output_type": "stream",
     "text": [
      "\n",
      "🥇 Best Model: Tuned Random Forest with F1-Score = 1.0000\n"
     ]
    }
   ],
   "source": [
    "best_model = df_tuned.sort_values(by=\"F1-Score\", ascending=False).iloc[0]\n",
    "print(f\"\\n🥇 Best Model: {best_model['Model']} with F1-Score = {best_model['F1-Score']:.4f}\")"
   ]
  },
  {
   "cell_type": "code",
   "execution_count": null,
   "id": "589516ca-4009-45fa-a7a5-273306fe26b8",
   "metadata": {},
   "outputs": [],
   "source": []
  }
 ],
 "metadata": {
  "kernelspec": {
   "display_name": "Python 3 (ipykernel)",
   "language": "python",
   "name": "python3"
  },
  "language_info": {
   "codemirror_mode": {
    "name": "ipython",
    "version": 3
   },
   "file_extension": ".py",
   "mimetype": "text/x-python",
   "name": "python",
   "nbconvert_exporter": "python",
   "pygments_lexer": "ipython3",
   "version": "3.12.4"
  }
 },
 "nbformat": 4,
 "nbformat_minor": 5
}
